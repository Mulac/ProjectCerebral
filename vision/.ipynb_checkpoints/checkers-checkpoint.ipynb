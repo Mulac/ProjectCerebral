{
 "cells": [
  {
   "cell_type": "code",
   "execution_count": 1,
   "metadata": {},
   "outputs": [],
   "source": [
    "import cv2\n",
    "import numpy as np\n",
    "from poly_point_isect import isect_segments"
   ]
  },
  {
   "cell_type": "code",
   "execution_count": 2,
   "metadata": {},
   "outputs": [],
   "source": [
    "img = cv2.imread('imgs/cntrs.jpg')\n",
    "img = cv2.resize(img, (0,0), fx=0.2, fy=0.2, interpolation=cv2.INTER_NEAREST)\n",
    "gray = cv2.cvtColor(img,cv2.COLOR_BGR2GRAY)"
   ]
  },
  {
   "cell_type": "markdown",
   "metadata": {},
   "source": [
    "### Find corners"
   ]
  },
  {
   "cell_type": "markdown",
   "metadata": {},
   "source": [
    "<p> Use the opencv function to find inner corners.\n",
    "    \n",
    "    note: uncomment j to see the result </p>"
   ]
  },
  {
   "cell_type": "code",
   "execution_count": 3,
   "metadata": {},
   "outputs": [],
   "source": [
    "brd_image = np.copy(img)\n",
    "ret, c = cv2.findChessboardCorners(img, (7,7), flags=cv2.CALIB_CB_ADAPTIVE_THRESH)\n",
    "# j = cv2.drawChessboardCorners(brd_image, (7,7), c, ret)\n",
    "corners = np.reshape(c, (7, 7, 2))"
   ]
  },
  {
   "cell_type": "markdown",
   "metadata": {},
   "source": [
    "<p> Extrapolate the conners to find the outer squares <p>"
   ]
  },
  {
   "cell_type": "code",
   "execution_count": 4,
   "metadata": {},
   "outputs": [],
   "source": [
    "extrap = np.zeros_like(corners, shape=(7, 9, 2))\n",
    "\n",
    "for row in range(7):\n",
    "    pre = corners[row][0] + corners[row][0] - corners[row][1]\n",
    "    pro = corners[row][6] + corners[row][6] - corners[row][5]\n",
    "    temp = np.insert(corners[row], 0, pre, axis=0)\n",
    "    extrap[row] = np.insert(temp, 8, pro, axis=0)\n",
    "    \n",
    "pre = extrap[0] + extrap[0] - extrap[1]\n",
    "pro = extrap[6] + extrap[6] - extrap[5]\n",
    "temp = np.reshape(np.insert(extrap, 0, pre, axis=0), (8, 9, 2))\n",
    "squares = np.reshape(np.insert(temp, 8, pro, axis=0), (9, 9, 2))"
   ]
  },
  {
   "cell_type": "code",
   "execution_count": 5,
   "metadata": {},
   "outputs": [],
   "source": [
    "for row in squares:\n",
    "    for x, y in row:\n",
    "        cv2.circle(brd_image, (int(x), int(y)), 2, (0, 255, 0), 4)"
   ]
  },
  {
   "cell_type": "markdown",
   "metadata": {},
   "source": [
    "### Find Counters "
   ]
  },
  {
   "cell_type": "code",
   "execution_count": 8,
   "metadata": {},
   "outputs": [],
   "source": [
    "for i in range(8):\n",
    "    for j in range(8):\n",
    "        # Grab the colour in the center of each square\n",
    "        x, y = (squares[i][j] + squares[i+1][j] + squares[i][j+1] + squares[i+1][j+1]) / 4\n",
    "        x = int(x)\n",
    "        y = int(y)\n",
    "        \n",
    "        # Check red component to see if a counter is present\n",
    "        if img[y, x][2] > 205:\n",
    "            cv2.circle(brd_image, (x, y), 20, (255, 0, 0), 2)"
   ]
  },
  {
   "cell_type": "markdown",
   "metadata": {},
   "source": [
    "# open image"
   ]
  },
  {
   "cell_type": "code",
   "execution_count": 7,
   "metadata": {},
   "outputs": [],
   "source": [
    "cv2.imshow('test', brd_image)\n",
    "cv2.waitKey(0)\n",
    "cv2.destroyAllWindows()"
   ]
  }
 ],
 "metadata": {
  "kernelspec": {
   "display_name": "Python 3",
   "language": "python",
   "name": "python3"
  },
  "language_info": {
   "codemirror_mode": {
    "name": "ipython",
    "version": 3
   },
   "file_extension": ".py",
   "mimetype": "text/x-python",
   "name": "python",
   "nbconvert_exporter": "python",
   "pygments_lexer": "ipython3",
   "version": "3.7.5"
  }
 },
 "nbformat": 4,
 "nbformat_minor": 2
}
