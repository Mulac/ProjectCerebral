{
 "cells": [
  {
   "cell_type": "code",
   "execution_count": 46,
   "metadata": {},
   "outputs": [],
   "source": [
    "import cv2\n",
    "import numpy as np\n",
    "from poly_point_isect import isect_segments"
   ]
  },
  {
   "cell_type": "code",
   "execution_count": 201,
   "metadata": {},
   "outputs": [],
   "source": [
    "img = cv2.imread('imgs/cntrs.jpg')\n",
    "img = cv2.resize(img, (0,0), fx=0.2, fy=0.2, interpolation=cv2.INTER_NEAREST)\n",
    "gray = cv2.cvtColor(img,cv2.COLOR_BGR2GRAY)"
   ]
  },
  {
   "cell_type": "markdown",
   "metadata": {},
   "source": [
    "### Find corners"
   ]
  },
  {
   "cell_type": "code",
   "execution_count": 262,
   "metadata": {},
   "outputs": [],
   "source": [
    "brd_image = np.copy(img)\n",
    "ret, c = cv2.findChessboardCorners(img, (7,7), flags=cv2.CALIB_CB_ADAPTIVE_THRESH)\n",
    "# j = cv2.drawChessboardCorners(brd_image, (7,7), c, ret)\n",
    "corners = np.reshape(c, (7, 7, 2))"
   ]
  },
  {
   "cell_type": "code",
   "execution_count": 263,
   "metadata": {},
   "outputs": [],
   "source": [
    "extrap = np.zeros_like(corners, shape=(7, 9, 2))\n",
    "\n",
    "for row in range(7):\n",
    "    pre = corners[row][0] + corners[row][0] - corners[row][1]\n",
    "    pro = corners[row][6] + corners[row][6] - corners[row][5]\n",
    "    temp = np.insert(corners[row], 0, pre, axis=0)\n",
    "    extrap[row] = np.insert(temp, 8, pro, axis=0)\n",
    "    \n",
    "pre = extrap[0] + extrap[0] - extrap[1]\n",
    "pro = extrap[6] + extrap[6] - extrap[5]\n",
    "temp = np.reshape(np.insert(extrap, 0, pre, axis=0), (8, 9, 2))\n",
    "squares = np.reshape(np.insert(temp, 8, pro, axis=0), (9, 9, 2))"
   ]
  },
  {
   "cell_type": "code",
   "execution_count": 264,
   "metadata": {},
   "outputs": [],
   "source": [
    "for row in squares:\n",
    "    for x, y in row:\n",
    "        cv2.circle(brd_image, (int(x), int(y)), 2, (0, 255, 0), 4)"
   ]
  },
  {
   "cell_type": "markdown",
   "metadata": {},
   "source": [
    "### Find Counters "
   ]
  },
  {
   "cell_type": "code",
   "execution_count": 265,
   "metadata": {},
   "outputs": [],
   "source": [
    "for i in range(8):\n",
    "    for j in range(8):\n",
    "        x, y = (squares[i][j] + squares[i+1][j] + squares[i][j+1] + squares[i+1][j+1]) / 4\n",
    "        x = int(x)\n",
    "        y = int(y)\n",
    "        \n",
    "        if img[y, x][2] > 205:\n",
    "            cv2.circle(brd_image, (x, y), 20, (255, 0, 0), 2)"
   ]
  },
  {
   "cell_type": "markdown",
   "metadata": {},
   "source": [
    "# open image"
   ]
  },
  {
   "cell_type": "code",
   "execution_count": null,
   "metadata": {},
   "outputs": [],
   "source": [
    "cv2.imshow('test', brd_image)\n",
    "cv2.waitKey(0)\n",
    "cv2.destroyAllWindows()"
   ]
  },
  {
   "cell_type": "markdown",
   "metadata": {},
   "source": [
    "## "
   ]
  },
  {
   "cell_type": "code",
   "execution_count": 23,
   "metadata": {},
   "outputs": [],
   "source": [
    "# kernel_size = 7\n",
    "# sigma = 120\n",
    "# blur_gray = cv2.GaussianBlur(gray,(kernel_size, kernel_size),0)\n",
    "# # blur_gray = cv2.bilateralFilter(gray,6,sigma,sigma)"
   ]
  },
  {
   "cell_type": "code",
   "execution_count": 19,
   "metadata": {},
   "outputs": [],
   "source": [
    "# ret, thresh = cv2.threshold(blur_gray, 127, 255, 0)\n",
    "# contours, hierarchy = cv2.findContours(thresh, 1, 2)\n",
    "# j = cv2.drawContours(img, contours, -1, (0, 255, 0), 3)"
   ]
  }
 ],
 "metadata": {
  "kernelspec": {
   "display_name": "Python 3",
   "language": "python",
   "name": "python3"
  },
  "language_info": {
   "codemirror_mode": {
    "name": "ipython",
    "version": 3
   },
   "file_extension": ".py",
   "mimetype": "text/x-python",
   "name": "python",
   "nbconvert_exporter": "python",
   "pygments_lexer": "ipython3",
   "version": "3.7.5"
  }
 },
 "nbformat": 4,
 "nbformat_minor": 2
}
