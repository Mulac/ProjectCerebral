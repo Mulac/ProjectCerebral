{
 "cells": [
  {
   "cell_type": "code",
   "execution_count": 1,
   "metadata": {},
   "outputs": [],
   "source": [
    "import cv2\n",
    "import numpy as np\n",
    "from poly_point_isect import isect_segments\n",
    "from scipy.spatial.distance import pdist, euclidean, squareform"
   ]
  },
  {
   "cell_type": "code",
   "execution_count": 2,
   "metadata": {},
   "outputs": [],
   "source": [
    "img = cv2.imread('imgs/brd.11.jpg')\n",
    "\n",
    "gray = cv2.cvtColor(img,cv2.COLOR_BGR2GRAY)\n",
    "height, width = img.shape[:2]\n",
    "center = width/2, height/2"
   ]
  },
  {
   "cell_type": "markdown",
   "metadata": {},
   "source": [
    "### Blur the image"
   ]
  },
  {
   "cell_type": "code",
   "execution_count": 3,
   "metadata": {},
   "outputs": [],
   "source": [
    "kernel_size = 9\n",
    "sigma = 120\n",
    "# blur_gray = cv2.GaussianBlur(gray,(kernel_size, kernel_size),0)\n",
    "blur_gray = cv2.bilateralFilter(gray,6,sigma,sigma)"
   ]
  },
  {
   "cell_type": "markdown",
   "metadata": {},
   "source": [
    "### Find edges"
   ]
  },
  {
   "cell_type": "code",
   "execution_count": 4,
   "metadata": {},
   "outputs": [],
   "source": [
    "low_threshold = 80\n",
    "high_threshold = 120\n",
    "edges = cv2.Canny(blur_gray, low_threshold, high_threshold)"
   ]
  },
  {
   "cell_type": "markdown",
   "metadata": {},
   "source": [
    "### Draw lines"
   ]
  },
  {
   "cell_type": "code",
   "execution_count": 5,
   "metadata": {},
   "outputs": [],
   "source": [
    "line_image = np.copy(img) * 0 \n",
    "\n",
    "lines = cv2.HoughLinesP(edges, 1, np.pi / 180, 40, np.array([]), 25, 46)\n",
    "\n",
    "line_segments = []\n",
    "r = 0.1\n",
    "for line in lines:\n",
    "    for x1,y1,x2,y2 in line:\n",
    "        x3,y3 = x1+(x1-x2)*r, y1+(y1-y2)*r\n",
    "        x4,y4 = x2+(x2-x1)*r, y2+(y2-y1)*r\n",
    "        line_segments.append(((x3, y3), (x4, y4)))\n",
    "        cv2.line(line_image,(int(x3),int(y3)),(int(x4),int(y4)),(255,0,0),3)\n",
    "\n",
    "line_image = cv2.addWeighted(img, 0.8, line_image, 0.7, 0)"
   ]
  },
  {
   "cell_type": "markdown",
   "metadata": {},
   "source": [
    "### Find intersections"
   ]
  },
  {
   "cell_type": "code",
   "execution_count": 6,
   "metadata": {},
   "outputs": [],
   "source": [
    "isects = isect_segments(line_segments)\n",
    "distances = squareform(pdist(isects, 'euclidean'))\n",
    "\n",
    "# Use the distances matrix to group agreeing intersections together \n",
    "# -> agreeing intersections are within 20px of each other\n",
    "# -> the groups are stored by their index in the 'isects' list\n",
    "\n",
    "tol = 20\n",
    "visited = []\n",
    "groups = []\n",
    "for i in range(len(isects)):\n",
    "    if i not in visited:\n",
    "        neighbours = []\n",
    "        for j in range(len(isects)):\n",
    "            if distances[i][j] < tol:\n",
    "                neighbours.append(j)\n",
    "                visited.append(j)\n",
    "        groups.append(neighbours)"
   ]
  },
  {
   "cell_type": "markdown",
   "metadata": {},
   "source": [
    "### Calculate positions"
   ]
  },
  {
   "cell_type": "code",
   "execution_count": 7,
   "metadata": {},
   "outputs": [],
   "source": [
    "class position():\n",
    "    def __init__(self, pos):\n",
    "        self.pos = pos\n",
    "        self.ofset = euclidean(center, pos)\n",
    "        self.x = pos[0]\n",
    "        self.y = pos[1]"
   ]
  },
  {
   "cell_type": "code",
   "execution_count": 8,
   "metadata": {},
   "outputs": [],
   "source": [
    "positions = []\n",
    "for group in groups:\n",
    "    points = [isects[i] for i in group]\n",
    "    avg = np.mean(points, axis=0)\n",
    "    positions.append(position(avg))\n",
    "\n",
    "positions = sorted(positions, key=lambda p: p.ofset)\n",
    "positions = positions[:24]\n",
    "for p in positions:\n",
    "    x, y = p.pos\n",
    "    cv2.circle(line_image, (int(x), int(y)), 2, (0, 255, 0), 4) "
   ]
  },
  {
   "cell_type": "markdown",
   "metadata": {},
   "source": [
    "## Image Skewing"
   ]
  },
  {
   "cell_type": "code",
   "execution_count": 9,
   "metadata": {},
   "outputs": [],
   "source": [
    "pts1 = np.float32([p.pos for p in positions[-4:]])\n",
    "pts2 = np.float32([[0,0],[500,0],[0,500],[500,500]])\n",
    "M = cv2.getPerspectiveTransform(pts1, pts2)\n",
    "skew = cv2.warpPerspective(img,M,(500,500))"
   ]
  },
  {
   "cell_type": "code",
   "execution_count": 10,
   "metadata": {},
   "outputs": [],
   "source": [
    "small_img = cv2.resize(skew, (7,7), interpolation=cv2.INTER_NEAREST)"
   ]
  },
  {
   "cell_type": "markdown",
   "metadata": {},
   "source": [
    "## OPEN Image"
   ]
  },
  {
   "cell_type": "code",
   "execution_count": null,
   "metadata": {},
   "outputs": [],
   "source": [
    "cv2.imshow('image', line_image)\n",
    "cv2.waitKey(0)\n",
    "cv2.destroyAllWindows()"
   ]
  },
  {
   "cell_type": "code",
   "execution_count": null,
   "metadata": {},
   "outputs": [],
   "source": []
  }
 ],
 "metadata": {
  "kernelspec": {
   "display_name": "Python 3",
   "language": "python",
   "name": "python3"
  },
  "language_info": {
   "codemirror_mode": {
    "name": "ipython",
    "version": 3
   },
   "file_extension": ".py",
   "mimetype": "text/x-python",
   "name": "python",
   "nbconvert_exporter": "python",
   "pygments_lexer": "ipython3",
   "version": "3.7.5"
  }
 },
 "nbformat": 4,
 "nbformat_minor": 2
}
